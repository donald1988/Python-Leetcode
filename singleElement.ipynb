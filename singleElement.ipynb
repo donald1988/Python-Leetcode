{
 "cells": [
  {
   "cell_type": "code",
   "execution_count": 1,
   "metadata": {},
   "outputs": [],
   "source": [
    "def findSingle(nums):\n",
    "   \n",
    "    # iterate over every element\n",
    "    for i in range(len(nums)):\n",
    "       \n",
    "        # Initialize count to 0\n",
    "        count = 0\n",
    "        for j in range(len(nums)):\n",
    "           \n",
    "            # Count the frequency\n",
    "            # of the element\n",
    "            if(nums[i] == nums[j]):\n",
    "                count += 1\n",
    " \n",
    "        # If the frequency of\n",
    "        # the element is one\n",
    "        if(count == 1):\n",
    "            return nums[i]"
   ]
  },
  {
   "cell_type": "code",
   "execution_count": 2,
   "metadata": {},
   "outputs": [
    {
     "name": "stdout",
     "output_type": "stream",
     "text": [
      "Element occurring once is None\n"
     ]
    }
   ],
   "source": [
    "ar = [2,2, 3, 5, 4, 5, 3, 4]\n",
    "print(\"Element occurring once is\", findSingle(ar))"
   ]
  },
  {
   "cell_type": "code",
   "execution_count": null,
   "metadata": {},
   "outputs": [],
   "source": []
  }
 ],
 "metadata": {
  "kernelspec": {
   "display_name": "Python 3",
   "language": "python",
   "name": "python3"
  },
  "language_info": {
   "codemirror_mode": {
    "name": "ipython",
    "version": 3
   },
   "file_extension": ".py",
   "mimetype": "text/x-python",
   "name": "python",
   "nbconvert_exporter": "python",
   "pygments_lexer": "ipython3",
   "version": "3.8.3"
  }
 },
 "nbformat": 4,
 "nbformat_minor": 4
}
