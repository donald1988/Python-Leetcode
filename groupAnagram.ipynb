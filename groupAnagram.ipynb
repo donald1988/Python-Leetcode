{
 "cells": [
  {
   "cell_type": "code",
   "execution_count": 5,
   "metadata": {},
   "outputs": [],
   "source": [
    "import collections"
   ]
  },
  {
   "cell_type": "code",
   "execution_count": 6,
   "metadata": {},
   "outputs": [],
   "source": [
    "def anagramGroup(liste):\n",
    "    words = collections.defaultdict(list)\n",
    "    for ch in liste:\n",
    "        words[tuple(sorted(ch))].append(ch)\n",
    "    return words.values()"
   ]
  },
  {
   "cell_type": "code",
   "execution_count": 7,
   "metadata": {},
   "outputs": [],
   "source": [
    "strs = [\"eat\", \"tea\",\"tan\",\"tan\", \"ate\", \"nat\", \"bat\", \"piz\", \"zip\",\"ange\", \"nage\", \"agen\",\"tab\"]"
   ]
  },
  {
   "cell_type": "code",
   "execution_count": 8,
   "metadata": {},
   "outputs": [
    {
     "data": {
      "text/plain": [
       "dict_values([['eat', 'tea', 'ate'], ['tan', 'tan', 'nat'], ['bat', 'tab'], ['piz', 'zip'], ['ange', 'nage', 'agen']])"
      ]
     },
     "execution_count": 8,
     "metadata": {},
     "output_type": "execute_result"
    }
   ],
   "source": [
    "anagramGroup(strs)"
   ]
  },
  {
   "cell_type": "code",
   "execution_count": 9,
   "metadata": {},
   "outputs": [],
   "source": [
    "import collections\n",
    "def countsentences(wordSet, sentences):\n",
    "    dico = defaultdict(int)\n",
    "    for word in wordSet:\n",
    "        word=''.join(sorted(word))\n",
    "        dico[word] +=1\n",
    "    result =[]\n",
    "    for s in sentences:\n",
    "        words=s.split('')\n",
    "        count = 1\n",
    "        for word in words:\n",
    "            k = ''.join(sorted(word))\n",
    "            if k in dico:\n",
    "                count *=1\n",
    "        result.append(count)\n",
    "    return result\n",
    "    "
   ]
  },
  {
   "cell_type": "code",
   "execution_count": 12,
   "metadata": {},
   "outputs": [],
   "source": [
    "strs = [\"eat\", \"tea\"]\n",
    "sentence = \"I want to eat breakfast with nat\""
   ]
  },
  {
   "cell_type": "code",
   "execution_count": null,
   "metadata": {},
   "outputs": [],
   "source": []
  }
 ],
 "metadata": {
  "kernelspec": {
   "display_name": "Python 3",
   "language": "python",
   "name": "python3"
  },
  "language_info": {
   "codemirror_mode": {
    "name": "ipython",
    "version": 3
   },
   "file_extension": ".py",
   "mimetype": "text/x-python",
   "name": "python",
   "nbconvert_exporter": "python",
   "pygments_lexer": "ipython3",
   "version": "3.8.3"
  }
 },
 "nbformat": 4,
 "nbformat_minor": 4
}
