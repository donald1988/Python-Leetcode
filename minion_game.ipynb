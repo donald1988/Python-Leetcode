{
 "cells": [
  {
   "cell_type": "code",
   "execution_count": 1,
   "metadata": {},
   "outputs": [],
   "source": [
    "def minion_game(string):\n",
    "    # your code goes here\n",
    "    s = len(string)\n",
    "    voyel = 'AEIOU' \n",
    "    voyels = 0\n",
    "    consone = 0\n",
    "    for i in range(s):\n",
    "        if string[i] in voyel:\n",
    "            voyels +=(s-i)\n",
    "        else: consone += (s-i)\n",
    "    if voyels < consone:\n",
    "        print('Stuart ' + str(consone))\n",
    "    elif voyels > consone:\n",
    "        print('Kevin ' + str(voyels))\n",
    "    else:\n",
    "        print('Draw')"
   ]
  },
  {
   "cell_type": "code",
   "execution_count": 2,
   "metadata": {},
   "outputs": [],
   "source": [
    "import re\n",
    "def minion_game(string):\n",
    "    Kevin=0\n",
    "    index=0\n",
    "    regex=\"^[AEIOU]\"\n",
    "    slen=len(string)\n",
    "    for i in string :\n",
    "        if bool(re.match(regex,i)):\n",
    "            Kevin=Kevin+ (slen-index)\n",
    "        index=index+1                    \n",
    "    Stuart= (((slen)*(slen+1))/2)  - Kevin\n",
    "    if Stuart<Kevin:\n",
    "        print(\"Kevin \" + str(int(Kevin)))\n",
    "    elif Stuart >  Kevin :\n",
    "        print(\"Stuart \" + str(int(Stuart))) \n",
    "    else:\n",
    "        print(\"Draw\") "
   ]
  },
  {
   "cell_type": "code",
   "execution_count": null,
   "metadata": {},
   "outputs": [],
   "source": []
  }
 ],
 "metadata": {
  "kernelspec": {
   "display_name": "Python 3",
   "language": "python",
   "name": "python3"
  },
  "language_info": {
   "codemirror_mode": {
    "name": "ipython",
    "version": 3
   },
   "file_extension": ".py",
   "mimetype": "text/x-python",
   "name": "python",
   "nbconvert_exporter": "python",
   "pygments_lexer": "ipython3",
   "version": "3.8.3"
  }
 },
 "nbformat": 4,
 "nbformat_minor": 4
}
